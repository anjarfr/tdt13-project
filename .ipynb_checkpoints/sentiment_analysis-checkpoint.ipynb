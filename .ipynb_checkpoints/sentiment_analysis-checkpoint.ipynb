{
 "cells": [
  {
   "cell_type": "code",
   "execution_count": 4,
   "metadata": {},
   "outputs": [],
   "source": [
    "import pandas as pd\n",
    "import numpy as np"
   ]
  },
  {
   "cell_type": "markdown",
   "metadata": {},
   "source": [
    "# Load the data"
   ]
  },
  {
   "cell_type": "code",
   "execution_count": 5,
   "metadata": {},
   "outputs": [],
   "source": [
    "fake = pd.read_csv('archive/Fake.csv')\n",
    "real = pd.read_csv('archive/True.csv')"
   ]
  },
  {
   "cell_type": "code",
   "execution_count": 9,
   "metadata": {},
   "outputs": [],
   "source": [
    "fake['label'] = 0\n",
    "real['label'] = 1"
   ]
  },
  {
   "cell_type": "code",
   "execution_count": 13,
   "metadata": {},
   "outputs": [],
   "source": [
    "data = pd.concat([real, fake])"
   ]
  },
  {
   "cell_type": "code",
   "execution_count": 16,
   "metadata": {
    "scrolled": true
   },
   "outputs": [
    {
     "data": {
      "text/html": [
       "<div>\n",
       "<style scoped>\n",
       "    .dataframe tbody tr th:only-of-type {\n",
       "        vertical-align: middle;\n",
       "    }\n",
       "\n",
       "    .dataframe tbody tr th {\n",
       "        vertical-align: top;\n",
       "    }\n",
       "\n",
       "    .dataframe thead th {\n",
       "        text-align: right;\n",
       "    }\n",
       "</style>\n",
       "<table border=\"1\" class=\"dataframe\">\n",
       "  <thead>\n",
       "    <tr style=\"text-align: right;\">\n",
       "      <th></th>\n",
       "      <th>title</th>\n",
       "      <th>text</th>\n",
       "      <th>subject</th>\n",
       "      <th>date</th>\n",
       "      <th>label</th>\n",
       "    </tr>\n",
       "  </thead>\n",
       "  <tbody>\n",
       "    <tr>\n",
       "      <th>0</th>\n",
       "      <td>MORE TRANSPARENCY: CLINTON’S REFUSE TO RELEASE...</td>\n",
       "      <td>Karl Rove is suggesting Hillary suffered brain...</td>\n",
       "      <td>left-news</td>\n",
       "      <td>Jun 16, 2015</td>\n",
       "      <td>0</td>\n",
       "    </tr>\n",
       "    <tr>\n",
       "      <th>1</th>\n",
       "      <td>MORE TRANSPARENCY: CLINTON’S REFUSE TO RELEASE...</td>\n",
       "      <td>Karl Rove is suggesting Hillary suffered brain...</td>\n",
       "      <td>politics</td>\n",
       "      <td>Jun 16, 2015</td>\n",
       "      <td>0</td>\n",
       "    </tr>\n",
       "    <tr>\n",
       "      <th>2</th>\n",
       "      <td>UK says clear that Zimbabwe's Mugabe has lost ...</td>\n",
       "      <td>LONDON (Reuters) - Zimbabwean President Robert...</td>\n",
       "      <td>worldnews</td>\n",
       "      <td>November 20, 2017</td>\n",
       "      <td>1</td>\n",
       "    </tr>\n",
       "    <tr>\n",
       "      <th>3</th>\n",
       "      <td>Chronology: Europe's long road in search of a ...</td>\n",
       "      <td>BRUSSELS (Reuters) - France, Germany and 21 ot...</td>\n",
       "      <td>worldnews</td>\n",
       "      <td>November 13, 2017</td>\n",
       "      <td>1</td>\n",
       "    </tr>\n",
       "    <tr>\n",
       "      <th>4</th>\n",
       "      <td>Germany summons North Korea's ambassador over ...</td>\n",
       "      <td>BERLIN (Reuters) - Germany strongly condemns N...</td>\n",
       "      <td>worldnews</td>\n",
       "      <td>November 29, 2017</td>\n",
       "      <td>1</td>\n",
       "    </tr>\n",
       "    <tr>\n",
       "      <th>...</th>\n",
       "      <td>...</td>\n",
       "      <td>...</td>\n",
       "      <td>...</td>\n",
       "      <td>...</td>\n",
       "      <td>...</td>\n",
       "    </tr>\n",
       "    <tr>\n",
       "      <th>44893</th>\n",
       "      <td>IS LONDON About To Elect Its First MUSLIM Mayo...</td>\n",
       "      <td>London is about to find out why putting politi...</td>\n",
       "      <td>politics</td>\n",
       "      <td>Jan 22, 2016</td>\n",
       "      <td>0</td>\n",
       "    </tr>\n",
       "    <tr>\n",
       "      <th>44894</th>\n",
       "      <td>Breaking: #EricBolling Out At Fox News</td>\n",
       "      <td>The woman pictured above (SEE MORE BELOW) is a...</td>\n",
       "      <td>politics</td>\n",
       "      <td>Sep 8, 2017</td>\n",
       "      <td>0</td>\n",
       "    </tr>\n",
       "    <tr>\n",
       "      <th>44895</th>\n",
       "      <td>EPIC! CHECK OUT THE T-SHIRTS Two Guys Wore Beh...</td>\n",
       "      <td>This is really epic and just hysterical! It s ...</td>\n",
       "      <td>left-news</td>\n",
       "      <td>Feb 9, 2016</td>\n",
       "      <td>0</td>\n",
       "    </tr>\n",
       "    <tr>\n",
       "      <th>44896</th>\n",
       "      <td>DREXEL PROFESSOR BLAMES ‘Whiteness’ and ‘Entit...</td>\n",
       "      <td>The Drexel University professor who tweeted  a...</td>\n",
       "      <td>politics</td>\n",
       "      <td>Nov 8, 2017</td>\n",
       "      <td>0</td>\n",
       "    </tr>\n",
       "    <tr>\n",
       "      <th>44897</th>\n",
       "      <td>U.S. Sen. Warren predicts appeal in legal batt...</td>\n",
       "      <td>WASHINGTON (Reuters) - U.S. Senator Elizabeth ...</td>\n",
       "      <td>politicsNews</td>\n",
       "      <td>November 28, 2017</td>\n",
       "      <td>1</td>\n",
       "    </tr>\n",
       "  </tbody>\n",
       "</table>\n",
       "<p>44898 rows × 5 columns</p>\n",
       "</div>"
      ],
      "text/plain": [
       "                                                   title  \\\n",
       "0      MORE TRANSPARENCY: CLINTON’S REFUSE TO RELEASE...   \n",
       "1      MORE TRANSPARENCY: CLINTON’S REFUSE TO RELEASE...   \n",
       "2      UK says clear that Zimbabwe's Mugabe has lost ...   \n",
       "3      Chronology: Europe's long road in search of a ...   \n",
       "4      Germany summons North Korea's ambassador over ...   \n",
       "...                                                  ...   \n",
       "44893  IS LONDON About To Elect Its First MUSLIM Mayo...   \n",
       "44894             Breaking: #EricBolling Out At Fox News   \n",
       "44895  EPIC! CHECK OUT THE T-SHIRTS Two Guys Wore Beh...   \n",
       "44896  DREXEL PROFESSOR BLAMES ‘Whiteness’ and ‘Entit...   \n",
       "44897  U.S. Sen. Warren predicts appeal in legal batt...   \n",
       "\n",
       "                                                    text       subject  \\\n",
       "0      Karl Rove is suggesting Hillary suffered brain...     left-news   \n",
       "1      Karl Rove is suggesting Hillary suffered brain...      politics   \n",
       "2      LONDON (Reuters) - Zimbabwean President Robert...     worldnews   \n",
       "3      BRUSSELS (Reuters) - France, Germany and 21 ot...     worldnews   \n",
       "4      BERLIN (Reuters) - Germany strongly condemns N...     worldnews   \n",
       "...                                                  ...           ...   \n",
       "44893  London is about to find out why putting politi...      politics   \n",
       "44894  The woman pictured above (SEE MORE BELOW) is a...      politics   \n",
       "44895  This is really epic and just hysterical! It s ...     left-news   \n",
       "44896  The Drexel University professor who tweeted  a...      politics   \n",
       "44897  WASHINGTON (Reuters) - U.S. Senator Elizabeth ...  politicsNews   \n",
       "\n",
       "                     date  label  \n",
       "0            Jun 16, 2015      0  \n",
       "1            Jun 16, 2015      0  \n",
       "2      November 20, 2017       1  \n",
       "3      November 13, 2017       1  \n",
       "4      November 29, 2017       1  \n",
       "...                   ...    ...  \n",
       "44893        Jan 22, 2016      0  \n",
       "44894         Sep 8, 2017      0  \n",
       "44895         Feb 9, 2016      0  \n",
       "44896         Nov 8, 2017      0  \n",
       "44897  November 28, 2017       1  \n",
       "\n",
       "[44898 rows x 5 columns]"
      ]
     },
     "execution_count": 16,
     "metadata": {},
     "output_type": "execute_result"
    }
   ],
   "source": [
    "data.sample(frac=1).reset_index(drop=True)"
   ]
  },
  {
   "cell_type": "code",
   "execution_count": 17,
   "metadata": {
    "scrolled": false
   },
   "outputs": [
    {
     "name": "stderr",
     "output_type": "stream",
     "text": [
      "/home/anja/.local/lib/python3.8/site-packages/seaborn/_decorators.py:36: FutureWarning: Pass the following variable as a keyword arg: x. From version 0.12, the only valid positional argument will be `data`, and passing other arguments without an explicit keyword will result in an error or misinterpretation.\n",
      "  warnings.warn(\n"
     ]
    },
    {
     "data": {
      "image/png": "[encoded data removed]",
      "text/plain": [
       "<Figure size 432x288 with 1 Axes>"
      ]
     },
     "metadata": {},
     "output_type": "display_data"
    }
   ],
   "source": [
    "import seaborn as sns\n",
    "sns.set_style(\"darkgrid\")\n",
    "sns.countplot(data['label']);"
   ]
  },
  {
   "cell_type": "markdown",
   "metadata": {},
   "source": [
    "The data is well-balanced in terms of labels."
   ]
  },
  {
   "cell_type": "code",
   "execution_count": 19,
   "metadata": {},
   "outputs": [
    {
     "data": {
      "text/plain": [
       "title      0\n",
       "text       0\n",
       "subject    0\n",
       "date       0\n",
       "label      0\n",
       "dtype: int64"
      ]
     },
     "execution_count": 19,
     "metadata": {},
     "output_type": "execute_result"
    }
   ],
   "source": [
    "data.isnull().sum()"
   ]
  },
  {
   "cell_type": "code",
   "execution_count": 27,
   "metadata": {
    "scrolled": false
   },
   "outputs": [
    {
     "data": {
      "image/png": "[encoded data removed]",
      "text/plain": [
       "<Figure size 720x720 with 1 Axes>"
      ]
     },
     "metadata": {},
     "output_type": "display_data"
    }
   ],
   "source": [
    "import matplotlib.pyplot as plt\n",
    "data['subject'].value_counts()\n",
    "plt.figure(figsize = (10,10))\n",
    "sns.countplot(x=data['subject']);"
   ]
  },
  {
   "cell_type": "markdown",
   "metadata": {},
   "source": [
    "There are 8 different news subjects, where political news are the most frequent. However, there are no"
   ]
  },
  {
   "cell_type": "code",
   "execution_count": 28,
   "metadata": {},
   "outputs": [
    {
     "data": {
      "text/plain": [
       "[Text(0, 0, '0'), Text(1, 0, '1')]"
      ]
     },
     "execution_count": 28,
     "metadata": {},
     "output_type": "execute_result"
    },
    {
     "data": {
      "image/png": "[encoded data removed]",
      "text/plain": [
       "<Figure size 720x720 with 1 Axes>"
      ]
     },
     "metadata": {},
     "output_type": "display_data"
    }
   ],
   "source": [
    "plt.figure(figsize = (10,10))\n",
    "chart = sns.countplot(x = \"label\", hue = \"subject\" , data = data)\n",
    "chart.set_xticklabels(chart.get_xticklabels())"
   ]
  },
  {
   "cell_type": "markdown",
   "metadata": {},
   "source": [
    "Of the "
   ]
  },
  {
   "cell_type": "code",
   "execution_count": 31,
   "metadata": {},
   "outputs": [
    {
     "ename": "ModuleNotFoundError",
     "evalue": "No module named 'nltk'",
     "output_type": "error",
     "traceback": [
      "\u001b[0;31m---------------------------------------------------------------------------\u001b[0m",
      "\u001b[0;31mModuleNotFoundError\u001b[0m                       Traceback (most recent call last)",
      "\u001b[0;32m<ipython-input-31-0a6b12a7d8ad>\u001b[0m in \u001b[0;36m<module>\u001b[0;34m\u001b[0m\n\u001b[1;32m      1\u001b[0m \u001b[0;31m# download sentiwordnet lexicon and import it\u001b[0m\u001b[0;34m\u001b[0m\u001b[0;34m\u001b[0m\u001b[0;34m\u001b[0m\u001b[0m\n\u001b[0;32m----> 2\u001b[0;31m \u001b[0;32mimport\u001b[0m \u001b[0mnltk\u001b[0m\u001b[0;34m\u001b[0m\u001b[0;34m\u001b[0m\u001b[0m\n\u001b[0m\u001b[1;32m      3\u001b[0m \u001b[0mnltk\u001b[0m\u001b[0;34m.\u001b[0m\u001b[0mdownload\u001b[0m\u001b[0;34m(\u001b[0m\u001b[0;34m'sentiwordnet'\u001b[0m\u001b[0;34m)\u001b[0m\u001b[0;34m\u001b[0m\u001b[0;34m\u001b[0m\u001b[0m\n\u001b[1;32m      4\u001b[0m \u001b[0;32mfrom\u001b[0m \u001b[0mnltk\u001b[0m\u001b[0;34m.\u001b[0m\u001b[0mcorpus\u001b[0m \u001b[0;32mimport\u001b[0m \u001b[0msentiwordnet\u001b[0m \u001b[0;32mas\u001b[0m \u001b[0mswn\u001b[0m\u001b[0;34m\u001b[0m\u001b[0;34m\u001b[0m\u001b[0m\n",
      "\u001b[0;31mModuleNotFoundError\u001b[0m: No module named 'nltk'"
     ]
    }
   ],
   "source": [
    "# download sentiwordnet lexicon and import it\n",
    "import nltk\n",
    "nltk.download('sentiwordnet')\n",
    "from nltk.corpus import sentiwordnet as swn "
   ]
  }
 ],
 "metadata": {
  "kernelspec": {
   "display_name": "Python 3",
   "language": "python",
   "name": "python3"
  },
  "language_info": {
   "codemirror_mode": {
    "name": "ipython",
    "version": 3
   },
   "file_extension": ".py",
   "mimetype": "text/x-python",
   "name": "python",
   "nbconvert_exporter": "python",
   "pygments_lexer": "ipython3",
   "version": "3.8.5"
  }
 },
 "nbformat": 4,
 "nbformat_minor": 4
}
