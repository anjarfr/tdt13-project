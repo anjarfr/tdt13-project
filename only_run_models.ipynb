{
 "cells": [
  {
   "cell_type": "markdown",
   "metadata": {},
   "source": [
    "# Create, fit and run models"
   ]
  },
  {
   "cell_type": "code",
   "execution_count": 1,
   "metadata": {},
   "outputs": [],
   "source": [
    "import numpy as np\n",
    "import pandas as pd"
   ]
  },
  {
   "cell_type": "markdown",
   "metadata": {},
   "source": [
    "Load training and test set and embedding matrix"
   ]
  },
  {
   "cell_type": "code",
   "execution_count": 2,
   "metadata": {},
   "outputs": [],
   "source": [
    "X_train_padded = pd.read_csv('data/X_train.csv', sep=',', header=None)\n",
    "X_test_padded = pd.read_csv('data/X_test.csv', sep=',', header=None)\n",
    "weak_labels = pd.read_csv('data/y_train.csv', sep=',', header=None)\n",
    "y_test = pd.read_csv('data/y_test.csv', sep=',', header=None)"
   ]
  },
  {
   "cell_type": "code",
   "execution_count": 3,
   "metadata": {
    "scrolled": true
   },
   "outputs": [],
   "source": [
    "embedding_matrix = pd.read_csv('data/embedding_matrix.csv', sep=',', header=None)"
   ]
  },
  {
   "cell_type": "markdown",
   "metadata": {},
   "source": [
    "## Baseline models"
   ]
  },
  {
   "cell_type": "code",
   "execution_count": 4,
   "metadata": {},
   "outputs": [],
   "source": [
    "from sklearn.dummy import DummyClassifier"
   ]
  },
  {
   "cell_type": "code",
   "execution_count": 5,
   "metadata": {},
   "outputs": [
    {
     "name": "stdout",
     "output_type": "stream",
     "text": [
      "0.49498886414253895\n"
     ]
    }
   ],
   "source": [
    "random_clf = DummyClassifier(strategy='uniform', random_state=42)\n",
    "random_clf.fit(X_train_padded, weak_labels)\n",
    "predictions = random_clf.predict(X_test_padded)\n",
    "score = random_clf.score(X_test_padded, y_test)\n",
    "\n",
    "print(score)"
   ]
  },
  {
   "cell_type": "code",
   "execution_count": 6,
   "metadata": {},
   "outputs": [
    {
     "name": "stdout",
     "output_type": "stream",
     "text": [
      "Prediction score:  0.47616926503340756\n",
      "\n",
      "Value counts for training data:\n",
      "0.0    17153\n",
      "1.0    14362\n",
      "dtype: int64\n",
      "\n",
      "Value counts for test data:\n",
      "1.0    4704\n",
      "0.0    4276\n",
      "dtype: int64\n"
     ]
    }
   ],
   "source": [
    "zero_rule_clf = DummyClassifier(strategy='most_frequent', random_state=42)\n",
    "zero_rule_clf.fit(X_train_padded, weak_labels)\n",
    "predictions = zero_rule_clf.predict(X_test_padded)\n",
    "score = zero_rule_clf.score(X_test_padded, y_test)\n",
    "\n",
    "print(\"Prediction score: \", score) \n",
    "\n",
    "# See the actual number of different labels, to check that the score makes sense\n",
    "print(\"\\nValue counts for training data:\")\n",
    "print(weak_labels.value_counts())\n",
    "print(\"\\nValue counts for test data:\")\n",
    "print(y_test.value_counts())"
   ]
  },
  {
   "cell_type": "markdown",
   "metadata": {},
   "source": [
    "## Neural network"
   ]
  },
  {
   "cell_type": "code",
   "execution_count": 7,
   "metadata": {},
   "outputs": [],
   "source": [
    "import keras"
   ]
  },
  {
   "cell_type": "code",
   "execution_count": 8,
   "metadata": {},
   "outputs": [],
   "source": [
    "vocab_size = embedding_matrix.shape[0]\n",
    "embed_dim = embedding_matrix.shape[1]\n",
    "input_length = X_train_padded.shape[1]\n",
    "lstm_out = 196"
   ]
  },
  {
   "cell_type": "code",
   "execution_count": 10,
   "metadata": {},
   "outputs": [],
   "source": [
    "model = keras.models.load_model('final_keras_model')"
   ]
  },
  {
   "cell_type": "code",
   "execution_count": 11,
   "metadata": {},
   "outputs": [
    {
     "name": "stdout",
     "output_type": "stream",
     "text": [
      "281/281 [==============================] - 10s 37ms/step - loss: 4.5939 - accuracy: 0.6880\n",
      "Accuracy: 68.797326 %\n"
     ]
    }
   ],
   "source": [
    "loss, accuracy = model.evaluate(X_test_padded, y_test.values, verbose=1)\n",
    "print('Accuracy: %f' % (accuracy*100), '%')"
   ]
  }
 ],
 "metadata": {
  "kernelspec": {
   "display_name": "Python 3.8.5 64-bit ('venv')",
   "language": "python",
   "name": "python38564bitvenvd98cf36e610e4b96b09e5dac2de698cb"
  },
  "language_info": {
   "codemirror_mode": {
    "name": "ipython",
    "version": 3
   },
   "file_extension": ".py",
   "mimetype": "text/x-python",
   "name": "python",
   "nbconvert_exporter": "python",
   "pygments_lexer": "ipython3",
   "version": "3.8.5"
  }
 },
 "nbformat": 4,
 "nbformat_minor": 4
}
