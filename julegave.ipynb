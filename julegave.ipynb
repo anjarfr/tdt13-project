{
 "cells": [
  {
   "cell_type": "code",
   "execution_count": 127,
   "metadata": {},
   "outputs": [],
   "source": [
    "navn = {\n",
    "    1: 'anja',\n",
    "    2: 'siri',\n",
    "    3: 'evin',\n",
    "    4: 'ingjerd',\n",
    "    5: 'sigrid'\n",
    "}"
   ]
  },
  {
   "cell_type": "code",
   "execution_count": 128,
   "metadata": {},
   "outputs": [],
   "source": [
    "import random\n",
    "\n",
    "gave = {}\n",
    "remaining = [key for key in navn.keys()]\n",
    "remaining\n",
    "\n",
    "for person in navn.keys():\n",
    "    okidoki = False\n",
    "    while not okidoki:\n",
    "        chosen = remaining[random.randint(0, len(remaining)-1)]\n",
    "        if person != chosen:\n",
    "            gave[navn[person]] = navn[chosen]\n",
    "            remaining.remove(chosen)\n",
    "            okidoki = True"
   ]
  },
  {
   "cell_type": "code",
   "execution_count": 129,
   "metadata": {},
   "outputs": [],
   "source": [
    "def print_gave():\n",
    "    for fra, til in gave.items():\n",
    "        print(fra, \"gir gave til\", til)"
   ]
  },
  {
   "cell_type": "code",
   "execution_count": 130,
   "metadata": {},
   "outputs": [
    {
     "name": "stdout",
     "output_type": "stream",
     "text": [
      "anja gir gave til sigrid\n",
      "siri gir gave til anja\n",
      "evin gir gave til siri\n",
      "ingjerd gir gave til evin\n",
      "sigrid gir gave til ingjerd\n"
     ]
    }
   ],
   "source": [
    "print_gave()"
   ]
  }
 ],
 "metadata": {
  "kernelspec": {
   "display_name": "Python 3",
   "language": "python",
   "name": "python3"
  },
  "language_info": {
   "codemirror_mode": {
    "name": "ipython",
    "version": 3
   },
   "file_extension": ".py",
   "mimetype": "text/x-python",
   "name": "python",
   "nbconvert_exporter": "python",
   "pygments_lexer": "ipython3",
   "version": "3.8.5"
  }
 },
 "nbformat": 4,
 "nbformat_minor": 4
}
